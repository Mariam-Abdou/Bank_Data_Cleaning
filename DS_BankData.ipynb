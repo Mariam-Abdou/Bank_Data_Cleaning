{
 "cells": [
  {
   "cell_type": "code",
   "execution_count": null,
   "id": "ff1153df-2304-4288-98b3-913652cf7bbb",
   "metadata": {},
   "outputs": [],
   "source": [
    "import pandas as pd\n",
    "import numpy as np\n",
    "import plotly.express as px\n",
    "import plotly.figure_factory as ff\n",
    "from sklearn.impute import SimpleImputer\n",
    "from sklearn.impute import KNNImputer\n",
    "from datasist.structdata import detect_outliers"
   ]
  },
  {
   "cell_type": "markdown",
   "id": "45fbf52c-3f20-4cc7-9825-f37f3fd140ec",
   "metadata": {},
   "source": [
    "## Define the Dataset"
   ]
  },
  {
   "cell_type": "code",
   "execution_count": null,
   "id": "386a2e2a-99e2-4a1b-b929-46ea61f0eb3f",
   "metadata": {},
   "outputs": [],
   "source": [
    "df = pd.read_csv(\"Bank Data.csv\")\n",
    "df.head()"
   ]
  },
  {
   "cell_type": "markdown",
   "id": "79115ecf-c2fc-4e92-aaed-31c91cf2f0d9",
   "metadata": {},
   "source": [
    "## Exploratory Data Analysis"
   ]
  },
  {
   "cell_type": "markdown",
   "id": "178355b0-8145-4d69-9670-f912a32002d0",
   "metadata": {},
   "source": [
    "### Structure of the Data"
   ]
  },
  {
   "cell_type": "code",
   "execution_count": null,
   "id": "36b0acb4-b6a2-4fd6-bd76-937a01e09678",
   "metadata": {},
   "outputs": [],
   "source": [
    "df.info()"
   ]
  },
  {
   "cell_type": "markdown",
   "id": "e9d68565-725b-4af5-b8bd-7175a78dd2bf",
   "metadata": {},
   "source": [
    "Many numerical columns are considered as object:\n",
    "\n",
    "Age must be an integer.\n",
    "Annual_Income -> float.\n",
    "Num_of_Loan -> integer.\n",
    "Num_of_Delayed_Payment -> float64.\n",
    "Changed_Credit_Limit -> float64.\n",
    "Outstanding_Debt -> float64.\n",
    "Credit_History_Age -> month counts (int).\n",
    "Amount_invested_monthly -> float64.\n",
    "Monthly_Balance -> float64."
   ]
  },
  {
   "cell_type": "markdown",
   "id": "39b12f0f-d557-45db-81da-592b41e9797a",
   "metadata": {},
   "source": [
    "### Summary Statistics"
   ]
  },
  {
   "cell_type": "code",
   "execution_count": null,
   "id": "4b280801-f0c1-40d1-85d2-66c4aba6d922",
   "metadata": {},
   "outputs": [],
   "source": [
    "df.describe()"
   ]
  },
  {
   "cell_type": "markdown",
   "id": "5a67c3bd-feee-483d-83d4-ad254093a7c2",
   "metadata": {},
   "source": [
    "### Duplicated Values"
   ]
  },
  {
   "cell_type": "code",
   "execution_count": null,
   "id": "45a2861d-d236-4e4f-9200-e34cb3f8b7ef",
   "metadata": {},
   "outputs": [],
   "source": [
    "df[df.duplicated()]"
   ]
  },
  {
   "cell_type": "markdown",
   "id": "60554d80-cd2c-4ae7-b917-7f4b6b8a7e97",
   "metadata": {},
   "source": [
    "No duplicated values, it might be due to the unique columns.\n",
    "We will check again once we apply further cleaning."
   ]
  },
  {
   "cell_type": "markdown",
   "id": "5a04327f-5c45-44a2-8058-6d8e7a15f8d8",
   "metadata": {},
   "source": [
    "### Unique Values"
   ]
  },
  {
   "cell_type": "code",
   "execution_count": null,
   "id": "bbb0f3c3-24b0-4487-bfdc-27c83ffc5209",
   "metadata": {},
   "outputs": [],
   "source": [
    "df.nunique()"
   ]
  },
  {
   "cell_type": "markdown",
   "id": "e6320ad2-a2ca-4eda-88bf-c853202040c1",
   "metadata": {},
   "source": [
    "All entries of ID and Credit_Utilization_Ratio are unique!\n",
    "We have to drop these two columns."
   ]
  },
  {
   "cell_type": "code",
   "execution_count": null,
   "id": "41eed7e5-fa32-458e-9161-3ea6c0606919",
   "metadata": {},
   "outputs": [],
   "source": [
    "# why Payment_of_Min_Amount col has only 3 unique values? \n",
    "df['Payment_of_Min_Amount'].unique()"
   ]
  },
  {
   "cell_type": "markdown",
   "id": "3baf8dce-dd69-4cb8-bc31-cc00caaca5ef",
   "metadata": {},
   "source": [
    "### Missing Values"
   ]
  },
  {
   "cell_type": "code",
   "execution_count": null,
   "id": "d895784f-e607-47c4-8d0b-21bcb5e64ef8",
   "metadata": {},
   "outputs": [],
   "source": [
    "df.isnull().sum()"
   ]
  },
  {
   "cell_type": "markdown",
   "id": "06e71a30-58be-4fe7-8a78-cef5d982c403",
   "metadata": {},
   "source": [
    "We may:\n",
    "Drop columns with more than 20% missing values.\n",
    "Impute missing values in numerical columns with mean, median, or mode.\n",
    "Impute missing values  in categorical columns with mode.\n",
    "Immutate using domain knowledge."
   ]
  },
  {
   "cell_type": "markdown",
   "id": "6ff4a400-6663-4b2d-a832-7f0c01a31062",
   "metadata": {},
   "source": [
    "### Explore some Columns"
   ]
  },
  {
   "cell_type": "markdown",
   "id": "62794d1f-f2ff-4c0f-97aa-63516efe89ff",
   "metadata": {},
   "source": [
    "There may be a relation between SSN and Customer_ID"
   ]
  },
  {
   "cell_type": "code",
   "execution_count": null,
   "id": "7ad219c2-3267-48e6-a80b-288929094c4f",
   "metadata": {},
   "outputs": [],
   "source": [
    "df['Customer_ID'].value_counts()"
   ]
  },
  {
   "cell_type": "code",
   "execution_count": null,
   "id": "e6f129d5-ce32-4ffb-bc65-a806e4737473",
   "metadata": {},
   "outputs": [],
   "source": [
    "df['SSN'].value_counts()"
   ]
  },
  {
   "cell_type": "markdown",
   "id": "9e943679-cd1d-40c4-b34a-10bac037801d",
   "metadata": {},
   "source": [
    "We got unexpected output where SSN value \"#F%$D@*&8\" which considered as corrupted data.\n",
    "This could happen due to data entry errors.\n",
    "Now we know that we have to handle it in the preprocessing phase."
   ]
  },
  {
   "cell_type": "code",
   "execution_count": null,
   "id": "5463e57c-fb96-4a90-9763-2ab8cd1fdf91",
   "metadata": {},
   "outputs": [],
   "source": [
    "df['SSN'] = df['SSN'].replace('#F%$D@*&8', np.nan)"
   ]
  },
  {
   "cell_type": "code",
   "execution_count": null,
   "id": "ecb08485-365e-4689-97a4-0e291779c442",
   "metadata": {},
   "outputs": [],
   "source": [
    "df[['Customer_ID', 'SSN']] "
   ]
  },
  {
   "cell_type": "code",
   "execution_count": null,
   "id": "13993893-2ea8-49ac-a3fc-55b6586a3ee1",
   "metadata": {},
   "outputs": [],
   "source": [
    "df.groupby('Customer_ID')['SSN'].apply(set)"
   ]
  },
  {
   "cell_type": "code",
   "execution_count": null,
   "id": "997cb79e-cd6d-4ce5-949c-43110563d2a6",
   "metadata": {
    "scrolled": true
   },
   "outputs": [],
   "source": [
    "for x in df.groupby('Customer_ID')['SSN'].apply(set):\n",
    "    print(x)"
   ]
  },
  {
   "cell_type": "markdown",
   "id": "3afdcceb-21ff-47cf-b9ca-54b1998e4221",
   "metadata": {},
   "source": [
    "As predicted, each Customer_ID is associated with one SSN.\n",
    "We need to fill NaN values in the SSN column with the correct SSN, which can be obtained from the Customer_ID."
   ]
  },
  {
   "cell_type": "markdown",
   "id": "eeebec42-63e2-45ee-bb7a-21f8f189eeee",
   "metadata": {},
   "source": [
    "But, since both columns represent the same information, and the SSN is sensitive data,\n",
    "besides that it requires preprocessing, we will drop the SSN column."
   ]
  },
  {
   "cell_type": "markdown",
   "id": "c91d1d61-0bf8-48ec-a6ea-eb1e3434f15e",
   "metadata": {},
   "source": [
    "### Data Visualization"
   ]
  },
  {
   "cell_type": "markdown",
   "id": "0517dc57-f232-41b5-bf7c-f24b92aba7b2",
   "metadata": {},
   "source": [
    "#### Month column"
   ]
  },
  {
   "cell_type": "code",
   "execution_count": null,
   "id": "76b7d805-4cc4-439e-8a36-c7e5acd7bcf0",
   "metadata": {},
   "outputs": [],
   "source": [
    "px.histogram( df, 'Month')"
   ]
  },
  {
   "cell_type": "code",
   "execution_count": null,
   "id": "2e25b338-69ce-4a56-a1d9-a966369f18dd",
   "metadata": {},
   "outputs": [],
   "source": []
  },
  {
   "cell_type": "markdown",
   "id": "989ee607-5220-4755-b61d-af4c5bfc5b49",
   "metadata": {},
   "source": [
    "####  Num_Bank_Accounts and Num_Credit_Card columns"
   ]
  },
  {
   "cell_type": "markdown",
   "id": "661ae2b1-a605-4d42-8506-3e3c942e2183",
   "metadata": {},
   "source": [
    "There might be a relationship between Num_Bank_Accounts and Num_Credit_Card"
   ]
  },
  {
   "cell_type": "code",
   "execution_count": null,
   "id": "b5b201d8-7217-4ec7-8e13-fa7db6b77b8b",
   "metadata": {},
   "outputs": [],
   "source": [
    "ff.create_distplot([df['Num_Bank_Accounts'], df['Num_Credit_Card']], ['Num_Bank_Accounts', 'Num_Credit_Card'], show_hist=False, show_rug=False)"
   ]
  },
  {
   "cell_type": "markdown",
   "id": "e109d62c-0e62-4933-a651-f46d0a43cedf",
   "metadata": {},
   "source": [
    "They are almost the same, so we may drop one of them."
   ]
  },
  {
   "cell_type": "code",
   "execution_count": null,
   "id": "325f88a4-0539-47ca-a7d8-90c606c5f6fe",
   "metadata": {},
   "outputs": [],
   "source": [
    "# Reduce the range for a closer overview.\n",
    "c1 = df[df['Num_Bank_Accounts'] < 100]['Num_Bank_Accounts']\n",
    "c2 = df[df['Num_Credit_Card'] < 100]['Num_Credit_Card']\n",
    "ff.create_distplot([c1, c2], ['Num_Bank_Accounts', 'Num_Credit_Card'], show_hist=False, show_rug=False)"
   ]
  },
  {
   "cell_type": "code",
   "execution_count": null,
   "id": "7d733a51-bcc5-4bf0-9c0e-8c73e39e15d4",
   "metadata": {},
   "outputs": [],
   "source": [
    "# Focus on the high-density part\n",
    "c1 = df[df['Num_Bank_Accounts'] < 20]['Num_Bank_Accounts']\n",
    "c2 = df[df['Num_Credit_Card'] < 20]['Num_Credit_Card']\n",
    "ff.create_distplot([c1, c2], ['Num_Bank_Accounts', 'Num_Credit_Card'], show_hist=False, show_rug=False)"
   ]
  },
  {
   "cell_type": "markdown",
   "id": "185dc4b4-ce27-41cd-9c9a-c5729b37abd9",
   "metadata": {},
   "source": [
    "Even if they don't have the same numbers, it is clear that there is a meaningful relationship between them."
   ]
  },
  {
   "cell_type": "code",
   "execution_count": null,
   "id": "96ab4a98-c5e2-488c-b9cc-711d26b8c7be",
   "metadata": {},
   "outputs": [],
   "source": [
    "df['Num_Bank_Accounts'].nunique()"
   ]
  },
  {
   "cell_type": "code",
   "execution_count": null,
   "id": "d24fa04a-5760-40ca-bef1-d45c3e78ac6e",
   "metadata": {},
   "outputs": [],
   "source": [
    "df['Num_Credit_Card'].nunique()"
   ]
  },
  {
   "cell_type": "markdown",
   "id": "4187f489-df3d-4a0e-b904-547115096a6a",
   "metadata": {},
   "source": [
    "Num_Credit_Card has more unique values."
   ]
  },
  {
   "cell_type": "code",
   "execution_count": null,
   "id": "978bf413-5b4d-4f51-81f5-6e6fe256bacb",
   "metadata": {},
   "outputs": [],
   "source": [
    "# analyze statistics to decide which one to drop\n",
    "df.describe()[['Num_Credit_Card', 'Num_Bank_Accounts']]"
   ]
  },
  {
   "cell_type": "markdown",
   "id": "abba5271-136e-451c-8690-40bd846d8940",
   "metadata": {},
   "source": [
    "Two columns, 'Num_Credit_Card' and 'Num_Bank_Accounts', have similar distributions.\n",
    "'Num_Credit_Card' has 819 unique values, while 'Num_Bank_Accounts' has 540 unique values.\n",
    "To simplify the dataset and avoid handling higher cardinality, we will drop the 'Num_Credit_Card' column due to its high variability and potential outliers.\n",
    "Further preprocessing will be performed on the 'Num_Bank_Accounts' column."
   ]
  },
  {
   "cell_type": "code",
   "execution_count": null,
   "id": "2eebdb57-037e-4d31-a1c1-5f5bf8d18f30",
   "metadata": {},
   "outputs": [],
   "source": []
  },
  {
   "cell_type": "code",
   "execution_count": null,
   "id": "6ce93345-e939-4239-acc7-443a0896d254",
   "metadata": {},
   "outputs": [],
   "source": []
  },
  {
   "cell_type": "code",
   "execution_count": null,
   "id": "36d822f9-b693-42a7-80d8-1f19e8375309",
   "metadata": {},
   "outputs": [],
   "source": []
  },
  {
   "cell_type": "code",
   "execution_count": null,
   "id": "4c9519f6-753d-4f50-a32f-90d2bf8a85ac",
   "metadata": {},
   "outputs": [],
   "source": []
  },
  {
   "cell_type": "code",
   "execution_count": null,
   "id": "c887c9c4-67ea-48e2-99a3-8cb413d4650e",
   "metadata": {},
   "outputs": [],
   "source": []
  },
  {
   "cell_type": "code",
   "execution_count": null,
   "id": "fcca05f3-c38a-43f3-bcb7-d24d09e86665",
   "metadata": {},
   "outputs": [],
   "source": []
  },
  {
   "cell_type": "markdown",
   "id": "26c69cc8-efb3-427e-986f-59fe7415ae28",
   "metadata": {},
   "source": [
    "## Data Preprocessing"
   ]
  },
  {
   "cell_type": "markdown",
   "id": "e0a7884d-4381-420a-acb7-52e3070d8c79",
   "metadata": {},
   "source": [
    "### Drop usless columns"
   ]
  },
  {
   "cell_type": "code",
   "execution_count": null,
   "id": "3cce1397-b068-418c-9866-2d12049e53aa",
   "metadata": {},
   "outputs": [],
   "source": [
    "df.columns"
   ]
  },
  {
   "cell_type": "raw",
   "id": "87629475-a819-4b57-a2ba-4d3b4273a01d",
   "metadata": {},
   "source": [
    "Drop ID and Credit_Utilization_Ratio columns, because they only have unique values.\n",
    "Drop SSN column due to the reasons mentioned before.\n",
    "Name is not necessary and can be removed.\n",
    "Drop Num_Credit_Card."
   ]
  },
  {
   "cell_type": "code",
   "execution_count": null,
   "id": "f08ae6a5-c540-40d6-82c2-b6a78db30611",
   "metadata": {},
   "outputs": [],
   "source": [
    "df.drop(['ID', 'Credit_Utilization_Ratio', 'SSN', 'Name', 'Num_Credit_Card'], axis=1, inplace=True)"
   ]
  },
  {
   "cell_type": "code",
   "execution_count": null,
   "id": "04f0a2a6-10ee-4f8f-a6de-54cc0f8599ce",
   "metadata": {},
   "outputs": [],
   "source": [
    "# Check for duplicates after removing the unique indices\n",
    "df.duplicated().sum()"
   ]
  },
  {
   "cell_type": "code",
   "execution_count": null,
   "id": "c99c3b08-5009-40db-b996-364149969900",
   "metadata": {},
   "outputs": [],
   "source": [
    "# remaining columns\n",
    "df.columns"
   ]
  },
  {
   "cell_type": "markdown",
   "id": "6a6dc613-86dc-47f0-9a5c-5ad344286edc",
   "metadata": {},
   "source": [
    "### Feature Engineering & Transformation"
   ]
  },
  {
   "cell_type": "markdown",
   "id": "77b6d565-1799-409a-87df-2c34b1e67b6e",
   "metadata": {},
   "source": [
    "#### Correct Data-types of Numerical Values"
   ]
  },
  {
   "cell_type": "code",
   "execution_count": null,
   "id": "51d17c4c-496f-4db3-bb89-2b0b5740d7f5",
   "metadata": {},
   "outputs": [],
   "source": [
    "def isNum(x):\n",
    "    try:\n",
    "        float(x)\n",
    "        return True\n",
    "    except:\n",
    "        return False"
   ]
  },
  {
   "cell_type": "markdown",
   "id": "fe1a0eb5-b0c6-4e1d-8eef-b48498d9f3e4",
   "metadata": {},
   "source": [
    "##### Age to be integer."
   ]
  },
  {
   "cell_type": "code",
   "execution_count": null,
   "id": "4cd5095b-a9cc-42bc-ba51-520cba02b0fd",
   "metadata": {},
   "outputs": [],
   "source": [
    "df['Age']"
   ]
  },
  {
   "cell_type": "code",
   "execution_count": null,
   "id": "42f2eb7d-ff80-4d15-9320-d3a03c42678e",
   "metadata": {},
   "outputs": [],
   "source": [
    "temp = df[ df['Age'].apply(isNum) == False ]\n",
    "temp['Age']"
   ]
  },
  {
   "cell_type": "markdown",
   "id": "2ab32e59-ab52-455b-a458-c606c27d0595",
   "metadata": {},
   "source": [
    "We notice that all non int values are trailed by \"_\""
   ]
  },
  {
   "cell_type": "code",
   "execution_count": null,
   "id": "78b362de-0344-4be5-bc78-dc90c903df2f",
   "metadata": {},
   "outputs": [],
   "source": [
    "temp['Age'] = temp['Age'].apply(lambda x: x.strip('_'))"
   ]
  },
  {
   "cell_type": "code",
   "execution_count": null,
   "id": "a0a21e6c-2bae-4499-8663-ead915d8b11b",
   "metadata": {},
   "outputs": [],
   "source": [
    "temp[ temp['Age'].apply(isNum) == False ].head(50)"
   ]
  },
  {
   "cell_type": "markdown",
   "id": "aa0c9dc1-a771-4438-9399-2b8acdeda95a",
   "metadata": {},
   "source": [
    "Perfect! Now we know that all the problem was in the trailing underscore."
   ]
  },
  {
   "cell_type": "code",
   "execution_count": null,
   "id": "aae10698-1c81-41ba-9881-fcd055c86858",
   "metadata": {
    "scrolled": true
   },
   "outputs": [],
   "source": [
    "df['Age'] = df['Age'].str.strip('_').astype(int)\n",
    "df['Age']"
   ]
  },
  {
   "cell_type": "markdown",
   "id": "bced3071-c7c8-4f8f-a2d2-fa3767afb87d",
   "metadata": {},
   "source": [
    "##### Annual_Income to be float."
   ]
  },
  {
   "cell_type": "code",
   "execution_count": null,
   "id": "f3d44f10-6dae-4f1f-a9bf-22e668a7991e",
   "metadata": {},
   "outputs": [],
   "source": [
    "df['Annual_Income']"
   ]
  },
  {
   "cell_type": "code",
   "execution_count": null,
   "id": "a8937c08-0a58-49e6-a83c-78aaf5974b29",
   "metadata": {},
   "outputs": [],
   "source": [
    "df[df['Annual_Income'].apply(isNum) == False]['Annual_Income']"
   ]
  },
  {
   "cell_type": "code",
   "execution_count": null,
   "id": "adcd7966-a3d7-40e6-bd75-ba1e96130d86",
   "metadata": {},
   "outputs": [],
   "source": [
    "# same problem here\n",
    "df['Annual_Income'] = df['Annual_Income'].str.strip('_').astype(float)"
   ]
  },
  {
   "cell_type": "code",
   "execution_count": null,
   "id": "096cc32b-679b-4e96-b54c-c21ab2a5c9c3",
   "metadata": {},
   "outputs": [],
   "source": [
    "df[df['Annual_Income'].apply(isNum) == False]"
   ]
  },
  {
   "cell_type": "markdown",
   "id": "746a352a-3cdf-4034-b467-dceb26b4b234",
   "metadata": {},
   "source": [
    "##### Num_of_Loan to be integer."
   ]
  },
  {
   "cell_type": "code",
   "execution_count": null,
   "id": "46bd47d1-8845-4ce9-aa5f-730704ad485c",
   "metadata": {},
   "outputs": [],
   "source": [
    "df['Num_of_Loan']"
   ]
  },
  {
   "cell_type": "code",
   "execution_count": null,
   "id": "ad98b0b2-ad55-45f6-a48f-34a44828ca32",
   "metadata": {},
   "outputs": [],
   "source": [
    "df['Num_of_Loan'] = df['Num_of_Loan'].str.strip('_').astype(int)\n",
    "df['Num_of_Loan']"
   ]
  },
  {
   "cell_type": "markdown",
   "id": "c5265728-5064-43b1-97d3-aa92733d29e9",
   "metadata": {},
   "source": [
    "##### Num_of_Delayed_Payment to be integer."
   ]
  },
  {
   "cell_type": "code",
   "execution_count": null,
   "id": "72a5a85f-c4e7-4ef2-8465-440d18b49419",
   "metadata": {},
   "outputs": [],
   "source": [
    "df['Num_of_Delayed_Payment']"
   ]
  },
  {
   "cell_type": "code",
   "execution_count": null,
   "id": "efccfa3d-765e-4dc8-aeef-58d08937fcb2",
   "metadata": {},
   "outputs": [],
   "source": [
    "# here, we have Nan values...\n",
    "df['Num_of_Delayed_Payment'].isnull().sum()"
   ]
  },
  {
   "cell_type": "code",
   "execution_count": null,
   "id": "b637b2a4-0de7-4a4a-9c55-4a469b1ba770",
   "metadata": {},
   "outputs": [],
   "source": [
    "# use float type because of NaN values\n",
    "df['Num_of_Delayed_Payment'] = df['Num_of_Delayed_Payment'].str.strip('_').astype(float)\n",
    "df['Num_of_Delayed_Payment']"
   ]
  },
  {
   "cell_type": "markdown",
   "id": "42302148-9122-477d-91c4-7aa63060b909",
   "metadata": {},
   "source": [
    "##### Changed_Credit_Limit to be float64"
   ]
  },
  {
   "cell_type": "code",
   "execution_count": null,
   "id": "38e308b3-862c-4716-9b41-062dbbe29e53",
   "metadata": {},
   "outputs": [],
   "source": [
    "df['Changed_Credit_Limit']"
   ]
  },
  {
   "cell_type": "code",
   "execution_count": null,
   "id": "049b8ddf-28c3-46b7-83bf-6582fc71f80e",
   "metadata": {},
   "outputs": [],
   "source": [
    "df[df['Changed_Credit_Limit'].apply(isNum) == False]['Changed_Credit_Limit']"
   ]
  },
  {
   "cell_type": "code",
   "execution_count": null,
   "id": "d07295bd-9e3f-402b-a610-3e6623d9df65",
   "metadata": {
    "scrolled": true
   },
   "outputs": [],
   "source": [
    "df[df['Changed_Credit_Limit'] == '_']['Changed_Credit_Limit']"
   ]
  },
  {
   "cell_type": "code",
   "execution_count": null,
   "id": "5c3065fd-37ad-4b78-8bf7-658ae3317eb2",
   "metadata": {},
   "outputs": [],
   "source": [
    "# all 1059 non numeric values are -, replace it by NaN using to_numeric function\n",
    "df['Changed_Credit_Limit'] = pd.to_numeric(df['Changed_Credit_Limit'], errors='coerce')"
   ]
  },
  {
   "cell_type": "code",
   "execution_count": null,
   "id": "3c4a71e0-fbd8-4273-8220-848ccb58974b",
   "metadata": {},
   "outputs": [],
   "source": [
    "df[df['Changed_Credit_Limit'].apply(isNum) == False]"
   ]
  },
  {
   "cell_type": "markdown",
   "id": "df07abd8-9f8d-432d-a3db-6d41a5a2f36c",
   "metadata": {},
   "source": [
    "##### Outstanding_Debt to be float64"
   ]
  },
  {
   "cell_type": "code",
   "execution_count": null,
   "id": "98c7d748-f470-403c-9c28-1ff7f743a5da",
   "metadata": {},
   "outputs": [],
   "source": [
    "df['Outstanding_Debt']"
   ]
  },
  {
   "cell_type": "code",
   "execution_count": null,
   "id": "a6c04486-8fa8-4b38-8d51-7ef6050c8818",
   "metadata": {},
   "outputs": [],
   "source": [
    "df[df['Outstanding_Debt'].apply(isNum) == False]['Outstanding_Debt']"
   ]
  },
  {
   "cell_type": "code",
   "execution_count": null,
   "id": "01b8147f-a2b2-46e5-b35a-dd4e2f5c2ee2",
   "metadata": {},
   "outputs": [],
   "source": [
    "df['Outstanding_Debt'] = df['Outstanding_Debt'].str.strip('_').astype(float)"
   ]
  },
  {
   "cell_type": "code",
   "execution_count": null,
   "id": "5a2b2988-15b6-452f-b0cf-827602c6b2ad",
   "metadata": {},
   "outputs": [],
   "source": [
    "df[df['Outstanding_Debt'].apply(isNum) == False]"
   ]
  },
  {
   "cell_type": "markdown",
   "id": "5c0cdaef-2f19-4692-b26f-b80c41d16486",
   "metadata": {},
   "source": [
    "##### Feature Extraction on Credit_History_Age"
   ]
  },
  {
   "cell_type": "code",
   "execution_count": null,
   "id": "a023c2c9-5f55-4469-8933-d86c786d11cc",
   "metadata": {},
   "outputs": [],
   "source": [
    "df['Credit_History_Age']"
   ]
  },
  {
   "cell_type": "code",
   "execution_count": null,
   "id": "6d0bcf5e-ebae-44a7-b4cc-0e56aeced837",
   "metadata": {},
   "outputs": [],
   "source": [
    "years = int(df['Credit_History_Age'][0].split(' ')[0])\n",
    "years"
   ]
  },
  {
   "cell_type": "code",
   "execution_count": null,
   "id": "5958e335-9a23-407e-b483-eedd7cf4e67d",
   "metadata": {},
   "outputs": [],
   "source": [
    "months = int(df['Credit_History_Age'][0].split(' ')[3])\n",
    "months"
   ]
  },
  {
   "cell_type": "code",
   "execution_count": null,
   "id": "0746c39c-2e34-4922-aed7-9a1cf3b4ebfc",
   "metadata": {},
   "outputs": [],
   "source": [
    "totMonths = years*12 + months\n",
    "totMonths"
   ]
  },
  {
   "cell_type": "code",
   "execution_count": null,
   "id": "0022cb88-9383-4db7-95e3-d01427aa4f27",
   "metadata": {},
   "outputs": [],
   "source": [
    "def convertToMonths(age):\n",
    "    try:\n",
    "        years = int(age.split(' ')[0])\n",
    "        months = int(age.split(' ')[3])\n",
    "        return years*12 + months\n",
    "    except:\n",
    "        return np.nan"
   ]
  },
  {
   "cell_type": "code",
   "execution_count": null,
   "id": "3d14fa2d-f5ef-4d4b-a3c7-dac86166aeb0",
   "metadata": {},
   "outputs": [],
   "source": [
    "df['Credit_History_Age'].isnull().sum()"
   ]
  },
  {
   "cell_type": "code",
   "execution_count": null,
   "id": "68bfab98-f7d1-4232-8cc9-b6df47a35dcf",
   "metadata": {},
   "outputs": [],
   "source": [
    "df['Credit_History_Age(months)'] = df['Credit_History_Age'].apply(convertToMonths)\n",
    "df['Credit_History_Age(months)']"
   ]
  },
  {
   "cell_type": "code",
   "execution_count": null,
   "id": "5027d7ca-233c-49fd-98e1-4b6bc16ed9ca",
   "metadata": {},
   "outputs": [],
   "source": [
    "df['Credit_History_Age(months)'].isnull().sum()"
   ]
  },
  {
   "cell_type": "markdown",
   "id": "5fe58d46-34fe-4e66-9b41-b5ea5b820d38",
   "metadata": {},
   "source": [
    "Number of null values didn't change."
   ]
  },
  {
   "cell_type": "code",
   "execution_count": null,
   "id": "ef532f8d-9f92-4b47-bd8f-a0da73142401",
   "metadata": {},
   "outputs": [],
   "source": [
    "df.drop('Credit_History_Age', axis=1, inplace=True)"
   ]
  },
  {
   "cell_type": "markdown",
   "id": "d98aca19-eb53-4ec9-a237-67da7989bed8",
   "metadata": {},
   "source": [
    "Extract years from months"
   ]
  },
  {
   "cell_type": "code",
   "execution_count": null,
   "id": "9c6c2545-3f7a-40d7-9d68-8e992fbba08c",
   "metadata": {},
   "outputs": [],
   "source": [
    "df['Credit_History_Age(years)'] = df['Credit_History_Age(months)'].apply(lambda x: x/12)\n",
    "df['Credit_History_Age(years)']"
   ]
  },
  {
   "cell_type": "code",
   "execution_count": null,
   "id": "18e88cee-f9e0-42dc-a926-69d01a1c48ed",
   "metadata": {},
   "outputs": [],
   "source": [
    "df['Credit_History_Age(years)'].isnull().sum()"
   ]
  },
  {
   "cell_type": "markdown",
   "id": "55263c8e-ec0d-49de-84b9-7e62cf4d005a",
   "metadata": {},
   "source": [
    "##### Amount_invested_monthly to be float64"
   ]
  },
  {
   "cell_type": "code",
   "execution_count": null,
   "id": "2ee35c6d-5e08-443f-964a-d17183969ddd",
   "metadata": {},
   "outputs": [],
   "source": [
    "df['Amount_invested_monthly']"
   ]
  },
  {
   "cell_type": "code",
   "execution_count": null,
   "id": "ada53a23-ecff-4b90-92d7-d8a942037816",
   "metadata": {},
   "outputs": [],
   "source": [
    "df[ df['Amount_invested_monthly'].apply(isNum) == False]['Amount_invested_monthly']"
   ]
  },
  {
   "cell_type": "markdown",
   "id": "6e9c3ce9-bc21-458c-a746-b97638656180",
   "metadata": {},
   "source": [
    "So, we need to strip the underscore."
   ]
  },
  {
   "cell_type": "code",
   "execution_count": null,
   "id": "c97420b7-5721-4534-891d-05548342cee3",
   "metadata": {},
   "outputs": [],
   "source": [
    "df['Amount_invested_monthly'] = df['Amount_invested_monthly'].str.strip('_').astype(float)\n",
    "df['Amount_invested_monthly']"
   ]
  },
  {
   "cell_type": "code",
   "execution_count": null,
   "id": "eea2259d-8312-4b06-a986-0f678e13a712",
   "metadata": {},
   "outputs": [],
   "source": [
    "df['Amount_invested_monthly'].isnull().sum()"
   ]
  },
  {
   "cell_type": "markdown",
   "id": "ca6504d8-02fa-4f19-827f-2c8287c0e887",
   "metadata": {},
   "source": [
    "##### Monthly_Balance to be float64"
   ]
  },
  {
   "cell_type": "code",
   "execution_count": null,
   "id": "71a093e4-46c8-4682-b9d1-40668ca4c30b",
   "metadata": {},
   "outputs": [],
   "source": [
    "df['Monthly_Balance']"
   ]
  },
  {
   "cell_type": "code",
   "execution_count": null,
   "id": "36f85bfc-47e6-4b92-a644-b59e71aa2472",
   "metadata": {},
   "outputs": [],
   "source": [
    "df['Monthly_Balance'].isnull().sum()"
   ]
  },
  {
   "cell_type": "code",
   "execution_count": null,
   "id": "2b58f4cc-1ff7-4793-9f6d-15db28e319a5",
   "metadata": {},
   "outputs": [],
   "source": [
    "df[ df['Monthly_Balance'].apply(isNum) == False]['Monthly_Balance']"
   ]
  },
  {
   "cell_type": "code",
   "execution_count": null,
   "id": "82dea50f-1945-4233-9106-fd06a264ae3d",
   "metadata": {},
   "outputs": [],
   "source": [
    "df[ df['Monthly_Balance'].apply(isNum) == False].shape[0]"
   ]
  },
  {
   "cell_type": "code",
   "execution_count": null,
   "id": "726bb863-6e0c-4087-b1f8-118844881a3b",
   "metadata": {},
   "outputs": [],
   "source": [
    "df[ df['Monthly_Balance'] == '__-333333333333333333333333333__'].shape[0]"
   ]
  },
  {
   "cell_type": "markdown",
   "id": "b35f033f-21b5-491c-a7d0-d4e53f247f6c",
   "metadata": {},
   "source": [
    "So all the non-float values are garbage. Only 6 rows, so replace them by Nan, and impute it later."
   ]
  },
  {
   "cell_type": "code",
   "execution_count": null,
   "id": "fe836868-31ca-4f39-84bb-818730ac1bb8",
   "metadata": {},
   "outputs": [],
   "source": [
    "df['Monthly_Balance'].replace('__-333333333333333333333333333__', np.nan, inplace=True)"
   ]
  },
  {
   "cell_type": "code",
   "execution_count": null,
   "id": "16798c96-0c4e-4a26-9103-396a755fc2ce",
   "metadata": {},
   "outputs": [],
   "source": [
    "df['Monthly_Balance'] = df['Monthly_Balance'].astype(float)\n",
    "df['Monthly_Balance']"
   ]
  },
  {
   "cell_type": "markdown",
   "id": "01a27c2b-1a7b-42f6-8263-87f003092677",
   "metadata": {},
   "source": [
    "We had 562 null values with these 6, now we must have 568."
   ]
  },
  {
   "cell_type": "code",
   "execution_count": null,
   "id": "ba30afbd-38ee-42e4-847b-816ef6004faf",
   "metadata": {},
   "outputs": [],
   "source": [
    "df['Monthly_Balance'].isnull().sum()"
   ]
  },
  {
   "cell_type": "markdown",
   "id": "8852eed2-e39a-4ce5-9cea-efec280c1b64",
   "metadata": {},
   "source": [
    "done perfectly! ;)"
   ]
  },
  {
   "cell_type": "markdown",
   "id": "0e54d1fa-bff6-42ec-a2cc-6302bcdb09b8",
   "metadata": {},
   "source": [
    "##### Check for all datatypes"
   ]
  },
  {
   "cell_type": "code",
   "execution_count": null,
   "id": "cc31a5c1-6af3-4597-aa69-7950ae4fb1b1",
   "metadata": {},
   "outputs": [],
   "source": [
    "df.info()"
   ]
  },
  {
   "cell_type": "markdown",
   "id": "17e3db1e-ed0c-4082-abb5-c1aa151be2be",
   "metadata": {},
   "source": [
    "Age to be integer.                        DONE\n",
    "Annual_Income to be float.                DONE\n",
    "Num_of_Loan integer.                      DONE\n",
    "Num_of_Delayed_Payment float64.           DONE\n",
    "Changed_Credit_Limit float64              DONE\n",
    "Outstanding_Debt float64                  DONE\n",
    "Credit_History_Age Num of months          DONE \n",
    "Amount_invested_monthly float64           DONE\n",
    "Monthly_Balance float64                   DONE"
   ]
  },
  {
   "cell_type": "markdown",
   "id": "48166569-96c3-4c48-9f2c-e3a767d28a26",
   "metadata": {},
   "source": [
    "#### Categorical Values"
   ]
  },
  {
   "cell_type": "code",
   "execution_count": null,
   "id": "50222f36-57f1-422b-963f-90dab7aa66a5",
   "metadata": {
    "scrolled": true
   },
   "outputs": [],
   "source": [
    "categoricalCols = df.select_dtypes(include=['object'])\n",
    "for col in categoricalCols:\n",
    "    print(col)\n",
    "    print(df[col].unique())\n",
    "    print()"
   ]
  },
  {
   "cell_type": "markdown",
   "id": "30720c41-12f6-472d-ac0a-1b471c3c3e12",
   "metadata": {},
   "source": [
    "##### Customer_ID"
   ]
  },
  {
   "cell_type": "code",
   "execution_count": null,
   "id": "8465a522-bd55-4954-85c5-1fbf1d486f6d",
   "metadata": {},
   "outputs": [],
   "source": [
    "from re import match\n",
    "pattern = r'^CUS_0x[0-9a-fA-F]+$'\n",
    "df['Customer_ID'].apply(lambda x: bool(match(pattern, x))).all()"
   ]
  },
  {
   "cell_type": "markdown",
   "id": "c1ca1820-81d7-4f62-b076-5f1d44776bbb",
   "metadata": {},
   "source": [
    "No corrupted data in Customer_ID column."
   ]
  },
  {
   "cell_type": "code",
   "execution_count": null,
   "id": "85ff2b40-05a8-4ab5-b932-713550cb7e82",
   "metadata": {},
   "outputs": [],
   "source": [
    "df['Customer_ID'].value_counts()"
   ]
  },
  {
   "cell_type": "markdown",
   "id": "90f97d0b-d87e-4750-8ec3-9c8cad89f1ab",
   "metadata": {},
   "source": [
    "Why all customers appeared more than once?"
   ]
  },
  {
   "cell_type": "code",
   "execution_count": null,
   "id": "f30b8561-9921-4aa7-a0de-72336a5dc82c",
   "metadata": {
    "scrolled": true
   },
   "outputs": [],
   "source": [
    "for id in df.sample(5)['Customer_ID']:\n",
    "    print('Customer_ID: ', id)\n",
    "    display(df[ df['Customer_ID'] == id])"
   ]
  },
  {
   "cell_type": "markdown",
   "id": "bed88720-9b16-4615-85cf-03e4709143a5",
   "metadata": {},
   "source": [
    "We observe that the columns likely to vary between rows are primarily the 'Month' and other columns such as 'Monthly_Inhand_Salary'."
   ]
  },
  {
   "cell_type": "markdown",
   "id": "2e944820-f8ac-4729-b83a-7fa0f5a78e9c",
   "metadata": {},
   "source": [
    "##### Month"
   ]
  },
  {
   "cell_type": "code",
   "execution_count": null,
   "id": "335a7d06-4fb4-41f9-8e4e-6d53651901d0",
   "metadata": {},
   "outputs": [],
   "source": [
    "df['Month'].unique()"
   ]
  },
  {
   "cell_type": "markdown",
   "id": "607beb2f-f3f8-4dcd-abbd-fbdb2d8004bb",
   "metadata": {},
   "source": [
    "No data entry problems."
   ]
  },
  {
   "cell_type": "code",
   "execution_count": null,
   "id": "50a480c5-e40f-4d23-ada8-d93d2ab58649",
   "metadata": {},
   "outputs": [],
   "source": [
    "df['Month'].value_counts()"
   ]
  },
  {
   "cell_type": "markdown",
   "id": "819a79de-1c6c-44eb-ad1d-a27859c58b9c",
   "metadata": {},
   "source": [
    "It is normally distributed, but it is important because other data like Monthly_Inhand_Salary are depending on it."
   ]
  },
  {
   "cell_type": "markdown",
   "id": "d79ca52d-fb8c-46d1-a341-2a30c16c4f89",
   "metadata": {},
   "source": [
    "##### Occupation"
   ]
  },
  {
   "cell_type": "code",
   "execution_count": null,
   "id": "c2ce9b2d-fc93-4287-8543-57924e0891be",
   "metadata": {},
   "outputs": [],
   "source": [
    "df['Occupation'].value_counts()"
   ]
  },
  {
   "cell_type": "code",
   "execution_count": null,
   "id": "a79bd098-76b8-4be4-92c6-e4e615d6db0e",
   "metadata": {},
   "outputs": [],
   "source": [
    "df['Occupation'] = df['Occupation'].replace('_______', np.nan)"
   ]
  },
  {
   "cell_type": "code",
   "execution_count": null,
   "id": "264c7d75-0d26-4f65-b544-bd33108278ef",
   "metadata": {},
   "outputs": [],
   "source": [
    "df['Occupation'].isnull().sum()"
   ]
  },
  {
   "cell_type": "markdown",
   "id": "82cdbe55-a61b-469a-872d-8624839c28ab",
   "metadata": {},
   "source": [
    "##### Type_of_Loan"
   ]
  },
  {
   "cell_type": "code",
   "execution_count": null,
   "id": "1673cbf7-6505-4650-9511-8f7738d23408",
   "metadata": {},
   "outputs": [],
   "source": [
    "df['Type_of_Loan']"
   ]
  },
  {
   "cell_type": "code",
   "execution_count": null,
   "id": "e940f0f5-9848-4166-b12b-3d731a4f2731",
   "metadata": {},
   "outputs": [],
   "source": [
    "df['Type_of_Loan'].isnull().sum()"
   ]
  },
  {
   "cell_type": "code",
   "execution_count": null,
   "id": "0991b4b9-9f03-4468-9b74-a1dcdc9fcef2",
   "metadata": {
    "scrolled": true
   },
   "outputs": [],
   "source": [
    "for x in df['Type_of_Loan'].unique():\n",
    "    print(x)\n",
    "    print()"
   ]
  },
  {
   "cell_type": "markdown",
   "id": "19835c11-ea22-4b8e-a15e-3c8a33f61160",
   "metadata": {},
   "source": [
    "Let's try to extract all Loan Types, if they are not many, then we will apply feature extraction on Type_of_Loan column."
   ]
  },
  {
   "cell_type": "code",
   "execution_count": null,
   "id": "61c45cdd-b8b2-4394-81f9-b1d5f5d41e0a",
   "metadata": {},
   "outputs": [],
   "source": [
    "# Concatenate all 'Type_of_Loan' values into a single string\n",
    "loanTypes = ', '.join(df['Type_of_Loan'].dropna())\n",
    "\n",
    "# Split the string by comma to create a list of loan types\n",
    "loanTypes = loanTypes.split(', ')\n",
    "\n",
    "# Convert the list to a set to ensure all loan types are unique\n",
    "loanTypes = set(loanTypes)\n",
    "loanTypes"
   ]
  },
  {
   "cell_type": "code",
   "execution_count": null,
   "id": "78398472-2fdb-42c4-9acc-abcda2e2a229",
   "metadata": {},
   "outputs": [],
   "source": [
    "# Remove the \"and\" from each element\n",
    "loanTypes = {x.replace('and ', '') for x in loanTypes}\n",
    "loanTypes"
   ]
  },
  {
   "cell_type": "code",
   "execution_count": null,
   "id": "c70333a0-c504-483c-8c64-654f33f41b40",
   "metadata": {},
   "outputs": [],
   "source": [
    "# Feature Extraction\n",
    "# extract loan types from 'Type_of_Loan'\n",
    "for loan_type in loanTypes:\n",
    "    # from the previous list, we get the names of the columns:\n",
    "    col = f'Has_{loan_type.replace(\" \", \"_\").replace(\"-\", \"_\")}'\n",
    "    # count the occurrences of the current column in the Type_of_Loan column\n",
    "    # add the count to the current column:\n",
    "    df[col] = df['Type_of_Loan'].apply(lambda x: str(x).count(loan_type) if isinstance(x, str) else float('nan'))"
   ]
  },
  {
   "cell_type": "code",
   "execution_count": null,
   "id": "45b1012e-3842-4b4b-990a-807eb8ca0077",
   "metadata": {},
   "outputs": [],
   "source": [
    "df.columns"
   ]
  },
  {
   "cell_type": "code",
   "execution_count": null,
   "id": "387cc100-d32f-401a-bce5-322b69a77e4c",
   "metadata": {},
   "outputs": [],
   "source": [
    "df.isnull().sum()"
   ]
  },
  {
   "cell_type": "markdown",
   "id": "d010476f-51a5-45de-b291-d3b2825c8b90",
   "metadata": {},
   "source": [
    "all have same number of nulls same as the parent column."
   ]
  },
  {
   "cell_type": "code",
   "execution_count": null,
   "id": "f1d6b2e9-8a79-44f9-9c57-bccdb3f17b45",
   "metadata": {},
   "outputs": [],
   "source": [
    "# Let's compare Type_of_Loan column:\n",
    "df['Type_of_Loan']"
   ]
  },
  {
   "cell_type": "code",
   "execution_count": null,
   "id": "525093f9-dcba-498a-8760-a491eb57f45b",
   "metadata": {},
   "outputs": [],
   "source": [
    "# with the extracted columns:\n",
    "df.iloc[:, -9:]"
   ]
  },
  {
   "cell_type": "code",
   "execution_count": null,
   "id": "571c2cb7-8d13-4097-b825-9e5b08b0b0a0",
   "metadata": {},
   "outputs": [],
   "source": [
    "# take a look of random samples:\n",
    "df.sample(5)"
   ]
  },
  {
   "cell_type": "code",
   "execution_count": null,
   "id": "edff3a18-7eab-4086-917a-18aad2f7b025",
   "metadata": {},
   "outputs": [],
   "source": [
    "df['Num_of_Loan'] == df.iloc[:, -9:].sum(axis=1)"
   ]
  },
  {
   "cell_type": "code",
   "execution_count": null,
   "id": "af026a5e-9c9c-4a94-b5cb-1ec2a7318e29",
   "metadata": {},
   "outputs": [],
   "source": [
    "df[ df['Num_of_Loan'] != df.iloc[:, -9:].sum(axis=1) ]"
   ]
  },
  {
   "cell_type": "markdown",
   "id": "e738a9b5-6fad-4182-8619-dd054d309063",
   "metadata": {},
   "source": [
    "The are many rows, but it looks like there is an error in the data entry. So we will check again after fixing them."
   ]
  },
  {
   "cell_type": "markdown",
   "id": "4f2c9bd3-bef0-412a-af70-945919b58b77",
   "metadata": {},
   "source": [
    "##### Credit_Mix"
   ]
  },
  {
   "cell_type": "code",
   "execution_count": null,
   "id": "66fee2bf-742b-4ce1-985c-ad01a215426d",
   "metadata": {},
   "outputs": [],
   "source": [
    "df['Credit_Mix'].unique()"
   ]
  },
  {
   "cell_type": "code",
   "execution_count": null,
   "id": "0a651926-ffc4-4619-bd04-52a60c268a14",
   "metadata": {},
   "outputs": [],
   "source": [
    "df['Credit_Mix'] = df['Credit_Mix'].replace('_', np.nan)"
   ]
  },
  {
   "cell_type": "code",
   "execution_count": null,
   "id": "5142bdd7-c164-49d7-95d1-2e3e52ecfbab",
   "metadata": {},
   "outputs": [],
   "source": [
    "df['Credit_Mix'].unique()"
   ]
  },
  {
   "cell_type": "markdown",
   "id": "fceb3db4-f748-41ea-a3e2-8edce0a27595",
   "metadata": {},
   "source": [
    "##### Payment_Behaviour"
   ]
  },
  {
   "cell_type": "code",
   "execution_count": null,
   "id": "66c31a9a-4f66-425c-9a92-c3d6736bc18b",
   "metadata": {},
   "outputs": [],
   "source": [
    "df['Payment_Behaviour'].unique()"
   ]
  },
  {
   "cell_type": "code",
   "execution_count": null,
   "id": "087aa6ff-84a9-42c3-976c-247880b1b8f0",
   "metadata": {},
   "outputs": [],
   "source": [
    "df['Payment_Behaviour'] = df['Payment_Behaviour'].replace('!@9#%8', np.nan)\n",
    "df['Payment_Behaviour'].unique()"
   ]
  },
  {
   "cell_type": "markdown",
   "id": "c0d86ede-158e-40c0-84f5-9e584b04b1ef",
   "metadata": {},
   "source": [
    "### Data Cleaning"
   ]
  },
  {
   "cell_type": "code",
   "execution_count": null,
   "id": "74d737ef-9098-4f05-bc70-3ab63892fe32",
   "metadata": {
    "scrolled": true
   },
   "outputs": [],
   "source": [
    "df.describe()"
   ]
  },
  {
   "cell_type": "markdown",
   "id": "c1e0fc07-e6ce-4dce-bf49-7a0df64dc86f",
   "metadata": {},
   "source": [
    "#### Age"
   ]
  },
  {
   "cell_type": "code",
   "execution_count": null,
   "id": "cd323f69-f60d-489c-89ff-fa608b893401",
   "metadata": {},
   "outputs": [],
   "source": [
    "df[df['Age'] == -500]['Age'].value_counts()"
   ]
  },
  {
   "cell_type": "code",
   "execution_count": null,
   "id": "9b4d11c2-3f14-49b2-8129-a41834703088",
   "metadata": {},
   "outputs": [],
   "source": [
    "df[df['Age'] < 0]['Age'].value_counts()"
   ]
  },
  {
   "cell_type": "code",
   "execution_count": null,
   "id": "3b0d1e5d-4962-4e73-a756-c548db3a5097",
   "metadata": {},
   "outputs": [],
   "source": [
    "# so all -ve values are -500. even 500 is not real value.\n",
    "df['Age'] = df['Age'].replace(-500, np.nan)"
   ]
  },
  {
   "cell_type": "code",
   "execution_count": null,
   "id": "1bfa4dd6-389e-4c81-87b2-339be3a461ff",
   "metadata": {},
   "outputs": [],
   "source": [
    "df[df['Age'] < 0].shape[0]"
   ]
  },
  {
   "cell_type": "code",
   "execution_count": null,
   "id": "c0320fd3-c0d7-4199-b3db-c95992354995",
   "metadata": {},
   "outputs": [],
   "source": [
    "df[df['Age'] > 100]['Age'].shape[0]"
   ]
  },
  {
   "cell_type": "code",
   "execution_count": null,
   "id": "caaad29e-4a5b-4fe9-bbb8-4e19afe8f173",
   "metadata": {},
   "outputs": [],
   "source": [
    "# replace them with nulls\n",
    "df.loc[df['Age'] > 100, 'Age'] = np.nan"
   ]
  },
  {
   "cell_type": "code",
   "execution_count": null,
   "id": "d6d0656b-1555-4db9-ae84-426f1acd67d4",
   "metadata": {},
   "outputs": [],
   "source": [
    "df['Age'].describe()"
   ]
  },
  {
   "cell_type": "markdown",
   "id": "4d292365-012a-44ef-b56a-a1c7ceb97319",
   "metadata": {},
   "source": [
    "Assume the bank accepts 14 yo."
   ]
  },
  {
   "cell_type": "code",
   "execution_count": null,
   "id": "24705c86-f8f0-46a7-9c0b-a943c95450a4",
   "metadata": {},
   "outputs": [],
   "source": [
    "px.box(df, 'Age')"
   ]
  },
  {
   "cell_type": "markdown",
   "id": "2b3b95d9-1431-4269-bae0-e4146fd9292a",
   "metadata": {},
   "source": [
    "#### Num_Bank_Accounts"
   ]
  },
  {
   "cell_type": "code",
   "execution_count": null,
   "id": "96516da0-cdf4-4f69-b59d-0f93a64244e4",
   "metadata": {},
   "outputs": [],
   "source": [
    "df[df['Num_Bank_Accounts'] == -1].shape[0]"
   ]
  },
  {
   "cell_type": "code",
   "execution_count": null,
   "id": "52ab07e1-70cc-4b91-a181-6f060e5395df",
   "metadata": {},
   "outputs": [],
   "source": [
    "# it might be an error in data entry, and might mean to be 1 instead.\n",
    "df['Num_Bank_Accounts'] = df['Num_Bank_Accounts'].replace(-1, 1)"
   ]
  },
  {
   "cell_type": "code",
   "execution_count": null,
   "id": "7fb23f15-3f8f-41c4-bc70-f025a944d96e",
   "metadata": {},
   "outputs": [],
   "source": [
    "df['Num_Bank_Accounts'].describe()"
   ]
  },
  {
   "cell_type": "code",
   "execution_count": null,
   "id": "e6150c56-18ab-48f5-a90b-347dfa2aca24",
   "metadata": {},
   "outputs": [],
   "source": [
    "# assume max number of accounts is 20\n",
    "df[df['Num_Bank_Accounts'] > 20].shape[0]"
   ]
  },
  {
   "cell_type": "code",
   "execution_count": null,
   "id": "c4eec61f-8e88-4a16-9908-1a5d3a2450c4",
   "metadata": {},
   "outputs": [],
   "source": [
    "df[df['Num_Bank_Accounts'] > 20] = np.nan"
   ]
  },
  {
   "cell_type": "code",
   "execution_count": null,
   "id": "cb6206b9-4a46-4b26-afb6-52303e4f824d",
   "metadata": {},
   "outputs": [],
   "source": [
    "px.box(df, 'Num_Bank_Accounts')"
   ]
  },
  {
   "cell_type": "markdown",
   "id": "dc208426-5ba7-4c39-b231-02b974cb68ac",
   "metadata": {},
   "source": [
    "#### Num_of_Loan"
   ]
  },
  {
   "cell_type": "markdown",
   "id": "52af903f-eaaa-4e5d-aa80-fedccd3b1dc9",
   "metadata": {},
   "source": [
    "As we said before. There are many values that are not accepted. Initially, let's see the range of the complete data."
   ]
  },
  {
   "cell_type": "code",
   "execution_count": null,
   "id": "fa8c203c-94ce-4523-bbc9-85b2f067e687",
   "metadata": {},
   "outputs": [],
   "source": [
    "df[ df['Num_of_Loan'] == df.iloc[:, -9:].sum(axis=1) ]['Num_of_Loan'].describe()"
   ]
  },
  {
   "cell_type": "markdown",
   "id": "b1e54d36-0bc2-4377-aea0-bdfa13b871de",
   "metadata": {},
   "source": [
    "so the normal value is between 0 and 9"
   ]
  },
  {
   "cell_type": "code",
   "execution_count": null,
   "id": "c52842f5-29f2-4f6c-ac98-7522e18d3e88",
   "metadata": {},
   "outputs": [],
   "source": [
    "df[df['Num_of_Loan'] == 10]"
   ]
  },
  {
   "cell_type": "code",
   "execution_count": null,
   "id": "ade78467-ffaa-4d42-b255-8f8bd24d5edd",
   "metadata": {},
   "outputs": [],
   "source": [
    "df[ df['Num_of_Loan'] != df.iloc[:, -9:].sum(axis=1) ]['Num_of_Loan'].unique()"
   ]
  },
  {
   "cell_type": "markdown",
   "id": "453cd8de-b8e1-4596-8084-956930cb23f3",
   "metadata": {},
   "source": [
    "All in-matched data does not correspond to reality.\n",
    "It is clear that the discrepancies between columns are due to data entry errors in Num_of_Loan column.\n",
    "We will derive the correct data from the other columns."
   ]
  },
  {
   "cell_type": "code",
   "execution_count": null,
   "id": "5d97917d-0c1e-4f55-8e78-334523bb4078",
   "metadata": {},
   "outputs": [],
   "source": [
    "df['Num_of_Loan'] = df.iloc[:, -9:].sum(axis=1)"
   ]
  },
  {
   "cell_type": "code",
   "execution_count": null,
   "id": "13acdf95-dd9e-447b-8a20-ff865c2ceb4d",
   "metadata": {},
   "outputs": [],
   "source": [
    "df['Num_of_Loan'].describe()"
   ]
  },
  {
   "cell_type": "code",
   "execution_count": null,
   "id": "2e610bd6-bb88-4b2b-8943-130d76d73dc4",
   "metadata": {},
   "outputs": [],
   "source": [
    "df.isnull().sum()"
   ]
  },
  {
   "cell_type": "code",
   "execution_count": null,
   "id": "46cee460-3aeb-4c31-8d9d-28edfdb9a9d0",
   "metadata": {},
   "outputs": [],
   "source": [
    "# Num_of_Loan must have same number of nulls as Type_of_Loan\n",
    "df.loc[df['Type_of_Loan'].isnull(), 'Num_of_Loan'] = np.nan"
   ]
  },
  {
   "cell_type": "code",
   "execution_count": null,
   "id": "9349234c-6df5-43a0-8879-82740ddc9183",
   "metadata": {},
   "outputs": [],
   "source": [
    "df['Num_of_Loan'].isnull().sum()"
   ]
  },
  {
   "cell_type": "markdown",
   "id": "dfe4cf65-73f0-4b4e-ade2-86eec5efcd91",
   "metadata": {},
   "source": [
    "Now, Num_of_Loan, Type_of_Loan, and each type of loan, all have the same number of nulls."
   ]
  },
  {
   "cell_type": "code",
   "execution_count": null,
   "id": "abab2290-c7c8-45c4-a0e1-59d3f774843f",
   "metadata": {},
   "outputs": [],
   "source": [
    "px.box(df, 'Num_of_Loan')"
   ]
  },
  {
   "cell_type": "markdown",
   "id": "ee1e7e6e-1acc-4f78-bfb6-e9cbbfcf646d",
   "metadata": {},
   "source": [
    "#### Delay_from_due_date"
   ]
  },
  {
   "cell_type": "code",
   "execution_count": null,
   "id": "29162d9c-fcfe-42f2-9546-b00f7b47f0cf",
   "metadata": {},
   "outputs": [],
   "source": [
    "df[df['Delay_from_due_date'] == -5].shape[0]"
   ]
  },
  {
   "cell_type": "code",
   "execution_count": null,
   "id": "4cfcf2f1-6a7f-435e-be95-902a9faa1cb9",
   "metadata": {},
   "outputs": [],
   "source": [
    "df[df['Delay_from_due_date']<0].shape[0]"
   ]
  },
  {
   "cell_type": "code",
   "execution_count": null,
   "id": "e6de8f26-c8d5-4641-a4e4-2765d9c8c315",
   "metadata": {},
   "outputs": [],
   "source": [
    "df[df['Delay_from_due_date']<0]['Delay_from_due_date'].value_counts()"
   ]
  },
  {
   "cell_type": "code",
   "execution_count": null,
   "id": "fea7ca89-758d-4135-9bcf-3ebd891b7b00",
   "metadata": {},
   "outputs": [],
   "source": [
    "# it might be an error in data entry.\n",
    "df['Delay_from_due_date'] = df['Delay_from_due_date'].abs()"
   ]
  },
  {
   "cell_type": "code",
   "execution_count": null,
   "id": "96f4d080-6a8f-424d-a0bc-d6312457043a",
   "metadata": {},
   "outputs": [],
   "source": [
    "df[df['Delay_from_due_date'] < 0].shape[0]"
   ]
  },
  {
   "cell_type": "markdown",
   "id": "b54132bb-e852-4394-933e-872a32bfc37d",
   "metadata": {},
   "source": [
    "#### Num_of_Delayed_Payment"
   ]
  },
  {
   "cell_type": "code",
   "execution_count": null,
   "id": "fb39a5c5-0ce9-472a-9b7d-16c969c41885",
   "metadata": {},
   "outputs": [],
   "source": [
    "df[df['Num_of_Delayed_Payment'] == -3].shape[0]"
   ]
  },
  {
   "cell_type": "code",
   "execution_count": null,
   "id": "c6780554-b178-4035-92a2-a66b59261d5c",
   "metadata": {},
   "outputs": [],
   "source": [
    "df[df['Num_of_Delayed_Payment'] < 0].shape[0]"
   ]
  },
  {
   "cell_type": "code",
   "execution_count": null,
   "id": "e076f2c5-c9d5-4ed5-b7d0-cd62a34ffe23",
   "metadata": {},
   "outputs": [],
   "source": [
    "df[df['Num_of_Delayed_Payment']<0]['Num_of_Delayed_Payment'].value_counts()"
   ]
  },
  {
   "cell_type": "code",
   "execution_count": null,
   "id": "580aeda8-8aef-49db-8136-1f61248362de",
   "metadata": {},
   "outputs": [],
   "source": [
    "# it might be an error in data entry.\n",
    "df['Num_of_Delayed_Payment'] = df['Num_of_Delayed_Payment'].abs()"
   ]
  },
  {
   "cell_type": "code",
   "execution_count": null,
   "id": "36f1dceb-de5d-4739-b96b-5c87566d25f4",
   "metadata": {},
   "outputs": [],
   "source": [
    "df[df['Num_of_Delayed_Payment'] < 0].shape[0]"
   ]
  },
  {
   "cell_type": "markdown",
   "id": "29018591-480f-44c9-9b98-d6f408389567",
   "metadata": {},
   "source": [
    "#### Changed_Credit_Limit"
   ]
  },
  {
   "cell_type": "code",
   "execution_count": null,
   "id": "affd4bb0-1fa4-4b87-8655-d36adcbaf1c0",
   "metadata": {},
   "outputs": [],
   "source": [
    "df[df['Changed_Credit_Limit'] == -6.450000].shape[0]"
   ]
  },
  {
   "cell_type": "code",
   "execution_count": null,
   "id": "071fb3d1-488a-410e-8bb7-885d86c09d0b",
   "metadata": {},
   "outputs": [],
   "source": [
    "df[df['Changed_Credit_Limit'] < 0]['Changed_Credit_Limit'].value_counts()"
   ]
  },
  {
   "cell_type": "markdown",
   "id": "9f48a9e2-cfaa-4b14-a588-3ca1e3f68650",
   "metadata": {},
   "source": [
    "Negative values here could indicate adjustments or corrections where there is increase or decrease in the credit limit change."
   ]
  },
  {
   "cell_type": "code",
   "execution_count": null,
   "id": "b180148c-ff3a-4a24-b6d2-8033f684d4a8",
   "metadata": {},
   "outputs": [],
   "source": [
    "df.iloc[:, 0:15].describe()"
   ]
  },
  {
   "cell_type": "code",
   "execution_count": null,
   "id": "00348d70-6490-49f1-83c6-ecca98a057d6",
   "metadata": {},
   "outputs": [],
   "source": [
    "df.iloc[:, 15:].describe()"
   ]
  },
  {
   "cell_type": "markdown",
   "id": "5b27ea7d-a029-4af3-a2a6-6e2831d0023b",
   "metadata": {},
   "source": [
    "### Handle Missing Values"
   ]
  },
  {
   "cell_type": "code",
   "execution_count": null,
   "id": "4ad1200e-83e7-47d7-8463-e5d6d198a488",
   "metadata": {},
   "outputs": [],
   "source": [
    "df.isnull().sum()"
   ]
  },
  {
   "cell_type": "code",
   "execution_count": null,
   "id": "db058274-b54f-45f2-b2ee-de2004062c5e",
   "metadata": {},
   "outputs": [],
   "source": [
    "# We decided to drop columns with more than 20% missing values\n",
    "missing_values = df.isnull().sum()\n",
    "missing_percentage = {col: (missing / 50000) * 100 for col, missing in missing_values.items()}\n",
    "\n",
    "missing_percentage_df = pd.DataFrame.from_dict(missing_percentage, orient='index', columns=['Missing_Percentage'])\n",
    "missing_percentage_df.sort_values('Missing_Percentage')"
   ]
  },
  {
   "cell_type": "code",
   "execution_count": null,
   "id": "29dfd9b4-6538-4f3a-8b5e-a5202b84061f",
   "metadata": {},
   "outputs": [],
   "source": [
    "# Credit_Mix with 20.6% missing values\n",
    "df.drop('Credit_Mix', axis=1, inplace=True)"
   ]
  },
  {
   "cell_type": "markdown",
   "id": "966b2eec-c97c-4d00-a5a7-46bab04886a2",
   "metadata": {},
   "source": [
    "No more columns to drop. Let's impute missing values instead."
   ]
  },
  {
   "cell_type": "markdown",
   "id": "899e4c4c-20af-4605-9e53-8dad98a3ba86",
   "metadata": {},
   "source": [
    "As 'Customer ID' is crucial for identifying and linking individual records across the dataset, I decided to drop rows with missing 'Customer ID' to maintain data integrity and ensure consistency in analysis."
   ]
  },
  {
   "cell_type": "code",
   "execution_count": null,
   "id": "f9a5b361-7b04-42bf-b6c7-aa6551135082",
   "metadata": {},
   "outputs": [],
   "source": [
    "df.dropna(subset=['Customer_ID'], inplace=True)"
   ]
  },
  {
   "cell_type": "code",
   "execution_count": null,
   "id": "9e13ddf4-2786-469c-8ef2-dd4d9070134d",
   "metadata": {},
   "outputs": [],
   "source": [
    "df.isnull().sum()"
   ]
  },
  {
   "cell_type": "markdown",
   "id": "f28c991a-d7ba-4e13-a4c6-de0feff0baf5",
   "metadata": {},
   "source": [
    "It was a good choice, we've significantly reduced the number of missing values by only dropping rows with null values in Customer_ID."
   ]
  },
  {
   "cell_type": "markdown",
   "id": "0a0b906e-2308-471f-a767-51b1a44af37a",
   "metadata": {},
   "source": [
    "#### Impute the missing values"
   ]
  },
  {
   "cell_type": "code",
   "execution_count": null,
   "id": "1b473d78-1da9-4523-8957-fdc75926b7b7",
   "metadata": {},
   "outputs": [],
   "source": [
    "# Categorical Columns\n",
    "df['Payment_Behaviour'] = df['Payment_Behaviour'].replace(np.nan, df['Payment_Behaviour'].mode()[0])\n",
    "df['Type_of_Loan'] = df['Type_of_Loan'].replace(np.nan, df['Type_of_Loan'].mode()[0])\n",
    "df['Occupation'] = df['Occupation'].replace(np.nan, df['Occupation'].mode()[0])"
   ]
  },
  {
   "cell_type": "code",
   "execution_count": null,
   "id": "d21d1795-f994-4aa9-908d-c7e5dd1109b7",
   "metadata": {},
   "outputs": [],
   "source": [
    "numericalCols = df.select_dtypes(include='number').columns\n",
    "numericalCols"
   ]
  },
  {
   "cell_type": "code",
   "execution_count": null,
   "id": "80750255-3cc4-46c1-85b7-a84fe5992339",
   "metadata": {},
   "outputs": [],
   "source": [
    "# To reduce the overhead of using KNN, we will not apply KNN imputation on all columns.\n",
    "numCols_knn = ['Monthly_Inhand_Salary', 'Num_of_Delayed_Payment', 'Changed_Credit_Limit', 'Num_Credit_Inquiries', 'Amount_invested_monthly', 'Monthly_Balance']"
   ]
  },
  {
   "cell_type": "code",
   "execution_count": null,
   "id": "201ae3ae-172c-47df-aaa3-166191a5e9a9",
   "metadata": {},
   "outputs": [],
   "source": [
    "df.columns"
   ]
  },
  {
   "cell_type": "code",
   "execution_count": null,
   "id": "4a9e3d79-5eab-4b6b-9e2f-ed4a6bcaf6ab",
   "metadata": {},
   "outputs": [],
   "source": [
    "df['Num_of_Loan'] = df['Num_of_Loan'].replace(np.nan, 0)\n",
    "for col in df.iloc[:, -9:]:\n",
    "    df[col] = df[col].replace(np.nan, 0)"
   ]
  },
  {
   "cell_type": "code",
   "execution_count": null,
   "id": "0a0240d4-f312-428f-a870-8767ae665173",
   "metadata": {
    "scrolled": true
   },
   "outputs": [],
   "source": [
    "imputer = SimpleImputer(strategy='median')\n",
    "df['Age'] = imputer.fit_transform( df[['Age']] )\n",
    "df['Credit_History_Age(months)'] = imputer.fit_transform( df[['Credit_History_Age(months)']] )\n",
    "df['Credit_History_Age(years)'] = imputer.fit_transform( df[['Credit_History_Age(years)']] )\n",
    "df['Num_Bank_Accounts'] = imputer.fit_transform( df[['Num_Bank_Accounts']] )"
   ]
  },
  {
   "cell_type": "code",
   "execution_count": null,
   "id": "e7dd4ca8-ad48-443b-8b06-55531ff1c5a4",
   "metadata": {},
   "outputs": [],
   "source": [
    "for col in numCols_knn:\n",
    "    imputer = KNNImputer()\n",
    "    df[col] = imputer.fit_transform( df[[col]] )"
   ]
  },
  {
   "cell_type": "code",
   "execution_count": null,
   "id": "2f680fc5-a29a-4d6f-a41c-9051e05ef25f",
   "metadata": {
    "scrolled": true
   },
   "outputs": [],
   "source": [
    "df.isnull().sum()"
   ]
  },
  {
   "cell_type": "code",
   "execution_count": null,
   "id": "c72aaaac-a48c-4a2c-bcf3-ba785499c09e",
   "metadata": {
    "scrolled": true
   },
   "outputs": [],
   "source": [
    "df.iloc[:, :15].describe()"
   ]
  },
  {
   "cell_type": "code",
   "execution_count": null,
   "id": "25968a89-3d0b-4c12-8da5-177fcd69bc5d",
   "metadata": {},
   "outputs": [],
   "source": [
    "df.iloc[:, 15:].describe()"
   ]
  },
  {
   "cell_type": "markdown",
   "id": "f3255b18-16b0-4e1a-be00-93b2b161cf74",
   "metadata": {},
   "source": [
    "##### Datatypes"
   ]
  },
  {
   "cell_type": "code",
   "execution_count": null,
   "id": "ebf6a0bc-8987-4ce2-88c6-5e923c214cf2",
   "metadata": {},
   "outputs": [],
   "source": [
    "# some integer values we convert it to float erlier due to NaN values, return them back to integer.\n",
    "df.info()"
   ]
  },
  {
   "cell_type": "markdown",
   "id": "e3fa7cea-dbd2-4ff7-a0ab-584c9c468112",
   "metadata": {},
   "source": [
    "Age, Num_Bank_Accounts, Num_of_Loan, Num_of_Delayed_Payment, Num_Credit_Inquiries, Credit_History_Age(months), Has_Student_Loan,mHas_Not_Specified, Has_Personal_Loan, Has_Mortgage_Loan, Has_Payday_Loan, Has_Auto_Loan, Has_Credit_Builder_Loan, Has_Home_Equity_Loan, Has_Debt_Consolidation_Loan."
   ]
  },
  {
   "cell_type": "code",
   "execution_count": null,
   "id": "1aba04a4-9c89-40af-bd48-d304db0bcae3",
   "metadata": {},
   "outputs": [],
   "source": [
    "cols_to_convert = ['Age', 'Num_Bank_Accounts', 'Num_of_Loan', 'Num_of_Delayed_Payment', 'Num_Credit_Inquiries', 'Credit_History_Age(months)', \n",
    "                   'Has_Student_Loan', 'Has_Not_Specified', 'Has_Personal_Loan', 'Has_Mortgage_Loan', 'Has_Payday_Loan', 'Has_Auto_Loan', \n",
    "                   'Has_Credit_Builder_Loan', 'Has_Home_Equity_Loan', 'Has_Debt_Consolidation_Loan']\n",
    "\n",
    "df[cols_to_convert] = df[cols_to_convert].astype(int)"
   ]
  },
  {
   "cell_type": "code",
   "execution_count": null,
   "id": "599e4b58-74be-469d-a8db-0e7993621c7b",
   "metadata": {},
   "outputs": [],
   "source": [
    "df.info()"
   ]
  },
  {
   "cell_type": "markdown",
   "id": "a5861f62-dc27-4f91-9ef8-7b0802033979",
   "metadata": {},
   "source": [
    "### Handle Outliers"
   ]
  },
  {
   "cell_type": "code",
   "execution_count": null,
   "id": "82d47a73-8da8-45a0-9066-fcefd26c22c7",
   "metadata": {},
   "outputs": [],
   "source": [
    "numericCols = df.select_dtypes(include='number').columns\n",
    "numericCols"
   ]
  },
  {
   "cell_type": "code",
   "execution_count": null,
   "id": "68fbaf3b-8537-4e20-9e55-d7a542fe7758",
   "metadata": {
    "scrolled": true
   },
   "outputs": [],
   "source": [
    "# show box plot before handing the outliers\n",
    "for col in numericCols:\n",
    "    fig = px.box(df, col, title=f'{col}')\n",
    "    fig.show()"
   ]
  },
  {
   "cell_type": "code",
   "execution_count": null,
   "id": "b9cb8b4d-3a6a-40db-a71b-378241cd4b94",
   "metadata": {},
   "outputs": [],
   "source": [
    "for col in numericCols:\n",
    "    outliers_indices = detect_outliers(df, 0, [col])\n",
    "    df.loc[outliers_indices, col] = df[col].median()"
   ]
  },
  {
   "cell_type": "code",
   "execution_count": null,
   "id": "7f28d356-0018-437a-ad9e-db14db1d83e7",
   "metadata": {
    "scrolled": true
   },
   "outputs": [],
   "source": [
    "# show box plot after outliers handling\n",
    "for col in numericCols:\n",
    "    fig = px.box(df, col, title=f'{col}')\n",
    "    fig.show()"
   ]
  },
  {
   "cell_type": "markdown",
   "id": "c5b364f0-b3f5-40af-acaa-39c14521b643",
   "metadata": {},
   "source": [
    "#### Extract Age_Category from Age Column"
   ]
  },
  {
   "cell_type": "code",
   "execution_count": null,
   "id": "0d6c096c-ba66-48f7-a4b2-21b0cc2ea8e2",
   "metadata": {},
   "outputs": [],
   "source": [
    "def extractAge(age):\n",
    "    if age < 20:\n",
    "        return 'Teens'\n",
    "    elif 20 <= age < 40:\n",
    "        return 'Adults'\n",
    "    else:\n",
    "        return 'Mature Adults'"
   ]
  },
  {
   "cell_type": "code",
   "execution_count": null,
   "id": "e32f8dbc-0de7-4c23-831e-7fa8bee3e1f2",
   "metadata": {},
   "outputs": [],
   "source": [
    "df['Age_Category'] = df['Age'].apply(extractAge)"
   ]
  },
  {
   "cell_type": "code",
   "execution_count": null,
   "id": "80228e9a-b63c-4f7e-8f54-64c41bc878d2",
   "metadata": {
    "scrolled": true
   },
   "outputs": [],
   "source": [
    "df[['Age', 'Age_Category']].sample(50)"
   ]
  },
  {
   "cell_type": "markdown",
   "id": "6ef6358b-66f0-4d21-b360-5ec2127fb86d",
   "metadata": {},
   "source": [
    "### Statistics of Categorical Columns"
   ]
  },
  {
   "cell_type": "code",
   "execution_count": null,
   "id": "f02df037-42a6-4b8f-8c3e-9a3963602cf6",
   "metadata": {},
   "outputs": [],
   "source": [
    "df.describe(include='O')"
   ]
  },
  {
   "cell_type": "markdown",
   "id": "cb4e2ceb-a6a3-4886-9fd8-354823894073",
   "metadata": {},
   "source": [
    "## Save to a CSV File"
   ]
  },
  {
   "cell_type": "code",
   "execution_count": null,
   "id": "6fcab486-6efc-455a-8008-9ef5c600479e",
   "metadata": {},
   "outputs": [],
   "source": [
    "df.to_csv('Bank Data (cleaned).csv', index=False)"
   ]
  },
  {
   "cell_type": "markdown",
   "id": "e6193cff-0085-4adb-9034-52c7deb82d88",
   "metadata": {},
   "source": [
    "## Data Analysis and Visualization"
   ]
  },
  {
   "cell_type": "code",
   "execution_count": null,
   "id": "c844196f-bb9f-40fd-af18-b07e50e53d1a",
   "metadata": {},
   "outputs": [],
   "source": [
    "df = pd.read_csv('Bank Data (cleaned).csv')"
   ]
  },
  {
   "cell_type": "code",
   "execution_count": null,
   "id": "44c57ecc-64cd-417b-a5cd-1ce99fe682c8",
   "metadata": {},
   "outputs": [],
   "source": [
    "# remember that Customer_ID is repeated every month. In some cases, we need customer's data only once.\n",
    "df_unique = df[df['Customer_ID'].duplicated() == False]\n",
    "df_unique.head()"
   ]
  },
  {
   "cell_type": "code",
   "execution_count": null,
   "id": "c15e3c4d-c10b-49e7-9c06-a65d98c9da56",
   "metadata": {},
   "outputs": [],
   "source": [
    "# for loan types, to apply some visualizations.. we need to melt the columns of types. \n",
    "loan_columns = df.iloc[:, -10:-1]\n",
    "df_melt = df_unique.melt(id_vars=['Customer_ID', 'Num_of_Loan', 'Age', 'Total_EMI_per_month'], value_vars=loan_columns, var_name='Loan_Type', value_name='Type_Count')"
   ]
  },
  {
   "cell_type": "markdown",
   "id": "0164292e-71a0-4ba2-afab-5f67c8e53e26",
   "metadata": {},
   "source": [
    "#### Top 10 Occupations with the Highest Annual Income"
   ]
  },
  {
   "cell_type": "code",
   "execution_count": null,
   "id": "4a310103-239d-4b9a-9a65-6ca88231bfac",
   "metadata": {},
   "outputs": [],
   "source": [
    "df_unique.groupby('Occupation')['Annual_Income'].mean().sort_values(ascending=False).reset_index().head(10)"
   ]
  },
  {
   "cell_type": "markdown",
   "id": "27752c09-7bcd-40a0-8979-c3e26a6b6c9f",
   "metadata": {},
   "source": [
    "We used unique_df instead of df because in `df`, some customers appear twice, others appear four times, etc. As a result, the weights are not equal."
   ]
  },
  {
   "cell_type": "markdown",
   "id": "ce0ff689-1d80-4748-8ef4-d2104bc49801",
   "metadata": {},
   "source": [
    "#### Month with higher Num_Credit_Inquiries"
   ]
  },
  {
   "cell_type": "code",
   "execution_count": null,
   "id": "bb113b92-cb10-4cc4-8b29-d0dfadc16bd7",
   "metadata": {},
   "outputs": [],
   "source": [
    "df.groupby('Month')['Num_Credit_Inquiries'].mean().idxmax()"
   ]
  },
  {
   "cell_type": "code",
   "execution_count": null,
   "id": "c518e4b5-4ef7-4d03-8d80-ce1a2c8d95b9",
   "metadata": {},
   "outputs": [],
   "source": [
    "df.groupby('Month')['Num_Credit_Inquiries'].mean().head(1)"
   ]
  },
  {
   "cell_type": "markdown",
   "id": "90c18913-0fcf-48a9-a47f-88b1bffac7ca",
   "metadata": {},
   "source": [
    "December has higher number of credit inqueries with average 7-8 inqueries."
   ]
  },
  {
   "cell_type": "markdown",
   "id": "56214fc7-fccd-4536-a85a-2f30eae8faf6",
   "metadata": {},
   "source": [
    "#### Most Common Loan Type"
   ]
  },
  {
   "cell_type": "code",
   "execution_count": null,
   "id": "08995194-1e77-4dc0-8a54-aa55b0a33823",
   "metadata": {},
   "outputs": [],
   "source": [
    "df_melt.groupby('Loan_Type')['Type_Count'].sum().idxmax()"
   ]
  },
  {
   "cell_type": "markdown",
   "id": "94c72073-bf33-4e8b-a652-a820f9f7c95b",
   "metadata": {},
   "source": [
    "#### Top 10 Customers with the Highest Monthly Balance"
   ]
  },
  {
   "cell_type": "code",
   "execution_count": null,
   "id": "f73025e0-0d32-4a46-98a4-09a7d434a2ab",
   "metadata": {},
   "outputs": [],
   "source": [
    "df.groupby('Customer_ID')['Monthly_Balance'].mean().sort_values(ascending=False).head(10)"
   ]
  },
  {
   "cell_type": "markdown",
   "id": "88365419-c271-4bd5-9c9a-c36564004752",
   "metadata": {},
   "source": [
    "#### Top 10 Customers with the Most Bank Accounts"
   ]
  },
  {
   "cell_type": "code",
   "execution_count": null,
   "id": "a51d476d-55d0-445e-b020-f11f57bdb67b",
   "metadata": {},
   "outputs": [],
   "source": [
    "df_unique.sort_values('Num_Bank_Accounts', ascending=False)[['Customer_ID', 'Num_Bank_Accounts']].head(10)"
   ]
  },
  {
   "cell_type": "markdown",
   "id": "83d58002-1dc9-4ee1-a988-19880dfcd114",
   "metadata": {},
   "source": [
    "#### Worst Customers in Terms of Delayed Payments"
   ]
  },
  {
   "cell_type": "code",
   "execution_count": null,
   "id": "83c22646-8fff-482c-8751-7427f166db83",
   "metadata": {},
   "outputs": [],
   "source": [
    "max_num_dp = df['Num_of_Delayed_Payment'].max()\n",
    "print(f'These customers have {max_num_dp} delayed payments:')\n",
    "\n",
    "df[ df['Num_of_Delayed_Payment'] == max_num_dp]['Customer_ID']"
   ]
  },
  {
   "cell_type": "markdown",
   "id": "947efd30-41fd-4b64-94e1-1c898f4f136c",
   "metadata": {},
   "source": [
    "#### Age Group Distribution"
   ]
  },
  {
   "cell_type": "code",
   "execution_count": null,
   "id": "3e79ac43-7130-4281-b406-f480b838a02b",
   "metadata": {},
   "outputs": [],
   "source": [
    "px.histogram(df_unique, 'Age_Category', text_auto=True)"
   ]
  },
  {
   "cell_type": "code",
   "execution_count": null,
   "id": "ec50022f-209f-4f73-9945-160ea34208e0",
   "metadata": {},
   "outputs": [],
   "source": [
    "px.pie(df_unique, 'Age_Category')"
   ]
  },
  {
   "cell_type": "markdown",
   "id": "1169b732-ee0c-4f7b-8951-5856da3e3697",
   "metadata": {},
   "source": [
    "The majority of customers are in the Adults age group. In contrast, Teens are less than 10% of the customers."
   ]
  },
  {
   "cell_type": "markdown",
   "id": "2a1ef638-ec8e-4718-b60f-0cc9762f5cdb",
   "metadata": {},
   "source": [
    "#### Age distribution of customers"
   ]
  },
  {
   "cell_type": "code",
   "execution_count": null,
   "id": "f9c9f3b7-3267-459d-a79a-b23ce383a0dc",
   "metadata": {},
   "outputs": [],
   "source": [
    "px.histogram( df , 'Age', nbins = 20)"
   ]
  },
  {
   "cell_type": "markdown",
   "id": "9f8b2dab-8efe-46d2-86a0-a052a41a7a45",
   "metadata": {},
   "source": [
    "The peak is around 30-34, indicating a higher concentration of customers in that age range."
   ]
  },
  {
   "cell_type": "code",
   "execution_count": null,
   "id": "32a0b4b9-d0fd-4f04-a381-7a781e9c368a",
   "metadata": {},
   "outputs": [],
   "source": [
    "ff.create_distplot([df['Age']], ['Age'], show_hist=False, show_rug=False)"
   ]
  },
  {
   "cell_type": "markdown",
   "id": "d75053a6-323d-448f-b6b5-60daec8dcd55",
   "metadata": {},
   "source": [
    "#### Most common occupations among customers"
   ]
  },
  {
   "cell_type": "code",
   "execution_count": null,
   "id": "1e81141f-84b5-4d78-bae7-5f7ab0d253e7",
   "metadata": {},
   "outputs": [],
   "source": [
    "px.histogram( df.drop_duplicates(subset='Customer_ID') , 'Occupation')"
   ]
  },
  {
   "cell_type": "markdown",
   "id": "c949cecc-821d-4ca2-a5a8-cca4aaf61a31",
   "metadata": {},
   "source": [
    "Lawyer is the most common occupation.\n",
    "It’s important to highlight that this maximum count includes imputed values for missing occupation data.\n",
    "However, since we imputed categorical data using the mode, the reported value is still correct."
   ]
  },
  {
   "cell_type": "code",
   "execution_count": null,
   "id": "af794bb4-93d1-4684-b190-26c664ddbec7",
   "metadata": {},
   "outputs": [],
   "source": [
    "df['Occupation'].value_counts().idxmax()"
   ]
  },
  {
   "cell_type": "markdown",
   "id": "12d8993e-bd01-4c72-9962-ef84f8ca5884",
   "metadata": {},
   "source": [
    "#### Distribution of Payment Behavior"
   ]
  },
  {
   "cell_type": "code",
   "execution_count": null,
   "id": "7c988348-611a-4581-ba55-d2d0b83869ee",
   "metadata": {
    "scrolled": true
   },
   "outputs": [],
   "source": [
    "px.histogram(df, 'Payment_Behaviour')"
   ]
  },
  {
   "cell_type": "markdown",
   "id": "aa208dae-2010-4f75-990a-045e99dffe98",
   "metadata": {},
   "source": [
    "Most common payment behaviour is Low-spent small-value payment.\n",
    "\n",
    "and less common               is Low-spent large-value payment."
   ]
  },
  {
   "cell_type": "code",
   "execution_count": null,
   "id": "96db29db-9362-4c36-9e3c-d8a555905e8d",
   "metadata": {},
   "outputs": [],
   "source": [
    "df['Payment_Behaviour'].value_counts()"
   ]
  },
  {
   "cell_type": "markdown",
   "id": "18d26aed-4c27-444c-9b11-32d471cf7244",
   "metadata": {},
   "source": [
    "##### Payment Behaviour with Payment of Min Account vs Intrest Rate "
   ]
  },
  {
   "cell_type": "code",
   "execution_count": null,
   "id": "533a3eae-ede0-4db9-bc3a-1b112b3fceef",
   "metadata": {
    "scrolled": true
   },
   "outputs": [],
   "source": [
    "temp = df.groupby(['Payment_Behaviour', 'Payment_of_Min_Amount']).sum().reset_index(level=[0,1])\n",
    "px.bar(temp, 'Payment_Behaviour', 'Interest_Rate', 'Payment_of_Min_Amount', barmode='group')"
   ]
  },
  {
   "cell_type": "markdown",
   "id": "ab12607a-2579-43df-876e-80f2dc626b3f",
   "metadata": {},
   "source": [
    "Most of those who has higher interest rate and make Low-spent small-value payment have already paid for the minimum payment."
   ]
  },
  {
   "cell_type": "markdown",
   "id": "6115bc8c-58aa-43b1-8242-915a0f12be18",
   "metadata": {},
   "source": [
    "##### Payment Behaviour correspond to Toatal EMI per Month"
   ]
  },
  {
   "cell_type": "code",
   "execution_count": null,
   "id": "1b2bd9d4-f9b9-4a18-b67e-1f7886260ef7",
   "metadata": {},
   "outputs": [],
   "source": [
    "temp = df.groupby('Payment_Behaviour').sum().reset_index(level=[0])\n",
    "px.bar(temp, 'Payment_Behaviour', 'Total_EMI_per_month')"
   ]
  },
  {
   "cell_type": "markdown",
   "id": "fb34ca57-7679-4b4f-8df1-a4e9a677146a",
   "metadata": {},
   "source": [
    "Customers who make Low-spent small-value payment tend to have higher EMI amounts.\n"
   ]
  },
  {
   "cell_type": "markdown",
   "id": "35a663c7-f51b-4def-88e4-a760db5112d0",
   "metadata": {},
   "source": [
    "#### Density of Credit Inquiries and Number of Loans"
   ]
  },
  {
   "cell_type": "code",
   "execution_count": null,
   "id": "19c6d4c9-ef32-4f8c-8fa1-b85b27c978cb",
   "metadata": {},
   "outputs": [],
   "source": [
    "px.violin(df, 'Num_of_Loan', 'Num_Credit_Inquiries')"
   ]
  },
  {
   "cell_type": "markdown",
   "id": "df70fa67-7f68-478f-b80c-09b0a980f868",
   "metadata": {},
   "source": [
    "It indicates that the distribution of credit inquiries is relatively consistent across different numbers of loans.\n",
    "\n",
    "Higher loan numbers have less variability in the number of credit inquiries."
   ]
  },
  {
   "cell_type": "markdown",
   "id": "e53b9c89-7772-447f-b50a-ab55e1f04f99",
   "metadata": {},
   "source": [
    "#### Credit History Age"
   ]
  },
  {
   "cell_type": "code",
   "execution_count": null,
   "id": "4f2e5022-0df1-4569-b22b-dca902be8e20",
   "metadata": {},
   "outputs": [],
   "source": [
    "px.scatter(df, 'Credit_History_Age(months)', 'Credit_History_Age(years)')"
   ]
  },
  {
   "cell_type": "markdown",
   "id": "9940c5ae-94aa-40af-977a-314e32d4c0c7",
   "metadata": {},
   "source": [
    "It is normal because the year is extracted from the month."
   ]
  },
  {
   "cell_type": "code",
   "execution_count": null,
   "id": "739ae6eb-f01e-47eb-ba2b-9980413491a2",
   "metadata": {},
   "outputs": [],
   "source": [
    "px.scatter(df, 'Credit_History_Age(years)', 'Age')"
   ]
  },
  {
   "cell_type": "markdown",
   "id": "5d013e82-f011-4d37-b35f-9262d3ce4e9b",
   "metadata": {},
   "source": [
    "It's clear that there is no relation between age and credit history.\n",
    "\n",
    "I thought as age increases, credit history increases."
   ]
  },
  {
   "cell_type": "markdown",
   "id": "9825525e-71ab-4b66-a330-1cec39984d44",
   "metadata": {},
   "source": [
    "#### Annual Income and Monthly Inhand Salary"
   ]
  },
  {
   "cell_type": "code",
   "execution_count": null,
   "id": "b7102a0c-7bb3-4ad3-be63-454b2f27c9cf",
   "metadata": {},
   "outputs": [],
   "source": [
    "px.scatter(df, 'Annual_Income', 'Monthly_Inhand_Salary')"
   ]
  },
  {
   "cell_type": "markdown",
   "id": "d3c1dff8-5861-4a07-abbe-e2ef0188b65a",
   "metadata": {},
   "source": [
    "There is a positive correlation between Annual Income and Monthly Inhand Salary.\n",
    "\n",
    "The data points are concentrated along an upward trend, suggesting a direct relationship between them."
   ]
  },
  {
   "cell_type": "markdown",
   "id": "a8757a8a-b6dd-4ef4-8a83-6bb131ae562d",
   "metadata": {},
   "source": [
    "#### Usage of Loan Types"
   ]
  },
  {
   "cell_type": "code",
   "execution_count": null,
   "id": "c17f6c43-22b6-467d-9359-8ee22e597b6f",
   "metadata": {},
   "outputs": [],
   "source": [
    "temp = df_melt.groupby(['Loan_Type']).sum().reset_index(level=[0])\n",
    "px.bar(temp, 'Loan_Type', 'Type_Count')"
   ]
  },
  {
   "cell_type": "markdown",
   "id": "3ebcb874-9376-4b98-85f6-8fbbed90e1da",
   "metadata": {},
   "source": [
    "##### Most Common Loan Types"
   ]
  },
  {
   "cell_type": "code",
   "execution_count": null,
   "id": "7f55c5db-7e03-4a64-996e-431bf87ba081",
   "metadata": {},
   "outputs": [],
   "source": [
    "temp.sort_values('Type_Count', ascending=False)['Loan_Type']"
   ]
  },
  {
   "cell_type": "markdown",
   "id": "386d5917-4a55-4ec5-84d4-18d774f745cc",
   "metadata": {},
   "source": [
    "Payday loan is most commonly used type."
   ]
  },
  {
   "cell_type": "markdown",
   "id": "fb337531-aa04-4533-b246-e989ed6f7251",
   "metadata": {},
   "source": [
    "#### Credit History by years"
   ]
  },
  {
   "cell_type": "code",
   "execution_count": null,
   "id": "3c80212e-d7c7-4cdd-9995-3ccf5c13eab1",
   "metadata": {},
   "outputs": [],
   "source": [
    "ff.create_distplot([df['Credit_History_Age(years)']], ['Credit_History_Age(years)'])"
   ]
  },
  {
   "cell_type": "markdown",
   "id": "6f54e083-75a7-47ff-a662-d5de01a8f615",
   "metadata": {},
   "source": [
    "Most customers have a credit history of 18-19 years."
   ]
  },
  {
   "cell_type": "markdown",
   "id": "e6166dfd-051b-4dc4-b9e1-c3589a772f4d",
   "metadata": {},
   "source": [
    "#### Delay From Due Date for Age Categories"
   ]
  },
  {
   "cell_type": "code",
   "execution_count": null,
   "id": "cd683a05-dabb-4d6f-88bf-ee0c5bdcfee2",
   "metadata": {},
   "outputs": [],
   "source": [
    "px.histogram(df, 'Delay_from_due_date', color = 'Age_Category', nbins = 50, barmode='group')"
   ]
  },
  {
   "cell_type": "markdown",
   "id": "450bc70f-5e5a-4636-8b7d-4f54310b8ffd",
   "metadata": {},
   "source": [
    "Most teens and adults are deayed by 18-19 days.\n",
    "\n",
    "Most mature adults delayed by 12-13 days."
   ]
  },
  {
   "cell_type": "markdown",
   "id": "e8291c49-b152-458b-bd2e-532e128cdd38",
   "metadata": {},
   "source": [
    "#### How does the annual income vary across different occupations?"
   ]
  },
  {
   "cell_type": "code",
   "execution_count": null,
   "id": "48c3df10-b0d5-45a0-ae45-d68e8b0e42f8",
   "metadata": {},
   "outputs": [],
   "source": [
    "temp = df.groupby('Occupation').sum().reset_index(level=[0])\n",
    "px.bar(temp, 'Occupation', 'Annual_Income')"
   ]
  },
  {
   "cell_type": "markdown",
   "id": "56e09e60-0947-4b5a-aee6-69edead0abc0",
   "metadata": {},
   "source": [
    "Architect has higher Annual Income after the Lawyer.\n",
    "\n",
    "Journalist has lower Annual Income."
   ]
  },
  {
   "cell_type": "markdown",
   "id": "81ab2b82-58b4-4ef0-a7cd-263194406c0c",
   "metadata": {},
   "source": [
    "#### How does the number of bank accounts vary with annual income?"
   ]
  },
  {
   "cell_type": "code",
   "execution_count": null,
   "id": "dda29de0-b42f-4d65-862b-044a59eeaf03",
   "metadata": {},
   "outputs": [],
   "source": [
    "temp = df.groupby('Num_Bank_Accounts').sum().reset_index(level=[0])\n",
    "px.bar(temp, 'Num_Bank_Accounts', 'Annual_Income')"
   ]
  },
  {
   "cell_type": "markdown",
   "id": "6069b1e1-66ce-4886-90bb-12494b5daf9e",
   "metadata": {},
   "source": [
    "#### Annual income and num of loans"
   ]
  },
  {
   "cell_type": "code",
   "execution_count": null,
   "id": "8f118d85-7948-4e5d-8229-835a8259a0b1",
   "metadata": {},
   "outputs": [],
   "source": [
    "temp = df_unique.groupby('Num_of_Loan').sum().reset_index()\n",
    "px.bar(temp, 'Num_of_Loan', 'Annual_Income')"
   ]
  },
  {
   "cell_type": "markdown",
   "id": "0a2a8f73-98ce-4466-9197-2dac8e196730",
   "metadata": {},
   "source": [
    "customers with higher annual incomes more likely to have less loans."
   ]
  },
  {
   "cell_type": "markdown",
   "id": "a14ef6b5-f6d7-4758-8255-ef8151d9f2b8",
   "metadata": {},
   "source": [
    "#### Salary and num of loans"
   ]
  },
  {
   "cell_type": "code",
   "execution_count": null,
   "id": "5d96c042-c2b9-4f4f-83cd-9b115feafcb2",
   "metadata": {
    "scrolled": true
   },
   "outputs": [],
   "source": [
    "temp = df_unique.groupby('Num_of_Loan').sum().reset_index()\n",
    "px.bar(temp, 'Num_of_Loan', 'Monthly_Inhand_Salary')"
   ]
  },
  {
   "cell_type": "markdown",
   "id": "ec9974b8-d8c7-4bb7-90fb-2004b2b66787",
   "metadata": {},
   "source": [
    "customers with higher salary have less loans."
   ]
  },
  {
   "cell_type": "code",
   "execution_count": null,
   "id": "87c7c601-2196-4215-acf9-703780d4769e",
   "metadata": {
    "scrolled": true
   },
   "outputs": [],
   "source": [
    "df.columns"
   ]
  },
  {
   "cell_type": "markdown",
   "id": "97bd1eb1-145f-426a-9301-3b1232be2b00",
   "metadata": {},
   "source": [
    "#### Distribution of monthly finantial behaviour columns"
   ]
  },
  {
   "cell_type": "code",
   "execution_count": null,
   "id": "226e2ccc-f180-4b16-bcbb-a8c1e4788270",
   "metadata": {},
   "outputs": [],
   "source": [
    "ff.create_distplot([df['Monthly_Balance'], df['Total_EMI_per_month'], df['Amount_invested_monthly']], ['Monthly_Balance','Total_EMI_per_month','Amount_invested_monthly'], show_hist=False, show_rug=False)"
   ]
  }
 ],
 "metadata": {
  "kernelspec": {
   "display_name": "Python 3 (ipykernel)",
   "language": "python",
   "name": "python3"
  },
  "language_info": {
   "codemirror_mode": {
    "name": "ipython",
    "version": 3
   },
   "file_extension": ".py",
   "mimetype": "text/x-python",
   "name": "python",
   "nbconvert_exporter": "python",
   "pygments_lexer": "ipython3",
   "version": "3.10.13"
  }
 },
 "nbformat": 4,
 "nbformat_minor": 5
}
